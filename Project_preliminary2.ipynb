{
 "cells": [
  {
   "cell_type": "code",
   "execution_count": 4,
   "id": "e15ced4f",
   "metadata": {},
   "outputs": [
    {
     "name": "stdout",
     "output_type": "stream",
     "text": [
      "Total number of seconds: 864000\n"
     ]
    }
   ],
   "source": [
    "no_of_days=int(input(\"Enter the number of days:\"))\n",
    "seconds=no_of_days*24*60*60\n",
    "print(\"Total number of seconds:\",seconds)"
   ]
  },
  {
   "cell_type": "code",
   "execution_count": 5,
   "id": "448845de",
   "metadata": {},
   "outputs": [
    {
     "name": "stdout",
     "output_type": "stream",
     "text": [
      "65449.84694978735\n"
     ]
    }
   ],
   "source": [
    "import math\n",
    "radius=float(input(\"Enter the radius:\"))\n",
    "volume=4/3*math.pi*radius**3\n",
    "print(volume)"
   ]
  },
  {
   "cell_type": "code",
   "execution_count": 13,
   "id": "c196a559",
   "metadata": {},
   "outputs": [
    {
     "name": "stdout",
     "output_type": "stream",
     "text": [
      "Perimeter=  8.0 and Area=  4.0\n"
     ]
    }
   ],
   "source": [
    "length=float(input(\"Enter the side length of the square:\"))\n",
    "Perimeter= 2*(length*2)\n",
    "Area=length**2\n",
    "print(\"Perimeter= \", Perimeter , \"and Area= \", Area) "
   ]
  },
  {
   "cell_type": "code",
   "execution_count": 14,
   "id": "839e9fa7",
   "metadata": {},
   "outputs": [
    {
     "name": "stdout",
     "output_type": "stream",
     "text": [
      "G is uppercase\n"
     ]
    }
   ],
   "source": [
    "letter=input(\"Enter any letter:\")\n",
    "if letter.islower():\n",
    "    print(letter ,\"is lowercase\")\n",
    "else:\n",
    "    print(letter ,\"is uppercase\")"
   ]
  },
  {
   "cell_type": "code",
   "execution_count": 9,
   "id": "b63c2de6",
   "metadata": {},
   "outputs": [
    {
     "name": "stdout",
     "output_type": "stream",
     "text": [
      "0.125\n",
      "0.29166666666666663\n",
      "0.5416666666666666\n",
      "1.0416666666666665\n"
     ]
    }
   ],
   "source": [
    "x=0\n",
    "y=20\n",
    "while y>=6:\n",
    "    y=y-4\n",
    "    x=x+2/y\n",
    "\n",
    "    print(x)\n"
   ]
  },
  {
   "cell_type": "code",
   "execution_count": 22,
   "id": "47e45fb4",
   "metadata": {},
   "outputs": [
    {
     "name": "stdout",
     "output_type": "stream",
     "text": [
      "[2, 5, 7, 9, 26]\n"
     ]
    }
   ],
   "source": [
    "random_array=[0 for i in range (5)]\n",
    "for i in range(5):\n",
    "    random_array[i]=int(input(f\"Input 5 numbers {i+1}:\"))\n",
    "print(random_array)\n"
   ]
  },
  {
   "cell_type": "code",
   "execution_count": 23,
   "id": "e648be29",
   "metadata": {},
   "outputs": [
    {
     "name": "stdout",
     "output_type": "stream",
     "text": [
      "9.8\n"
     ]
    }
   ],
   "source": [
    "import numpy as np\n",
    "average=np.mean(random_array)\n",
    "print(average)"
   ]
  }
 ],
 "metadata": {
  "kernelspec": {
   "display_name": "Python 3",
   "language": "python",
   "name": "python3"
  },
  "language_info": {
   "codemirror_mode": {
    "name": "ipython",
    "version": 3
   },
   "file_extension": ".py",
   "mimetype": "text/x-python",
   "name": "python",
   "nbconvert_exporter": "python",
   "pygments_lexer": "ipython3",
   "version": "3.12.10"
  }
 },
 "nbformat": 4,
 "nbformat_minor": 5
}
